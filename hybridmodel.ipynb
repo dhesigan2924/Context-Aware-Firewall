{
  "nbformat": 4,
  "nbformat_minor": 0,
  "metadata": {
    "colab": {
      "provenance": [],
      "gpuType": "T4"
    },
    "kernelspec": {
      "name": "python3",
      "display_name": "Python 3"
    },
    "language_info": {
      "name": "python"
    },
    "accelerator": "GPU"
  },
  "cells": [
    {
      "cell_type": "code",
      "source": [
        "import numpy as np\n",
        "import pandas as pd\n",
        "from sklearn.ensemble import IsolationForest\n",
        "from sklearn.svm import OneClassSVM\n",
        "from sklearn.metrics import accuracy_score, f1_score, precision_score, recall_score\n",
        "from sklearn.model_selection import train_test_split\n",
        "from sklearn.preprocessing import StandardScaler\n",
        "from tensorflow.keras.models import Sequential\n",
        "from tensorflow.keras.layers import Dense\n",
        "from scipy.stats import zscore"
      ],
      "metadata": {
        "id": "2l1yODBRqvqP"
      },
      "execution_count": null,
      "outputs": []
    },
    {
      "cell_type": "code",
      "source": [
        "# Create Random data\n",
        "np.random.seed(42)\n",
        "normal_data = np.random.normal(0, 1, (1000, 2))\n",
        "anomalous_data = np.random.uniform(-4, 4, (50, 2))\n",
        "\n",
        "data = np.concatenate((normal_data, anomalous_data), axis=0)\n",
        "labels = np.concatenate((np.zeros(1000), np.ones(50)), axis=0)  # 0: normal, 1: anomaly\n",
        "\n",
        "# Split data into train and test sets\n",
        "X_train, X_test, y_train, y_test = train_test_split(data, labels, test_size=0.2, random_state=42)\n",
        "\n",
        "# Normalize data\n",
        "scaler = StandardScaler()\n",
        "X_train = scaler.fit_transform(X_train)\n",
        "X_test = scaler.transform(X_test)\n"
      ],
      "metadata": {
        "id": "EMJP62_zrDNC"
      },
      "execution_count": null,
      "outputs": []
    },
    {
      "cell_type": "markdown",
      "source": [],
      "metadata": {
        "id": "b0bNGoy44R69"
      }
    },
    {
      "cell_type": "code",
      "source": [
        "def z_score_method(data):\n",
        "    z_scores = np.abs(zscore(data))\n",
        "    return (z_scores > 3).any(axis=1).astype(int)  # Anomaly if any z-score > 3\n"
      ],
      "metadata": {
        "id": "kUK4lEAjrE_I"
      },
      "execution_count": null,
      "outputs": []
    },
    {
      "cell_type": "code",
      "source": [
        "iso_forest = IsolationForest(contamination=0.05, random_state=42)\n",
        "iso_forest.fit(X_train)\n",
        "y_pred_iso_forest = iso_forest.predict(X_test)\n",
        "y_pred_iso_forest = np.where(y_pred_iso_forest == -1, 1, 0)  # Convert to 1 for anomaly\n"
      ],
      "metadata": {
        "id": "Df1hvFD8rHnn"
      },
      "execution_count": null,
      "outputs": []
    },
    {
      "cell_type": "code",
      "source": [
        "# Define Autoencoder model\n",
        "input_dim = X_train.shape[1]\n",
        "autoencoder = Sequential([\n",
        "    Dense(16, activation='relu', input_shape=(input_dim,)),\n",
        "    Dense(8, activation='relu'),\n",
        "    Dense(16, activation='relu'),\n",
        "    Dense(input_dim, activation='sigmoid')\n",
        "])\n",
        "\n",
        "autoencoder.compile(optimizer='adam', loss='mse')\n",
        "\n",
        "# Train Autoencoder\n",
        "autoencoder.fit(X_train, X_train, epochs=50, batch_size=32, validation_split=0.1, verbose=0)\n",
        "\n",
        "# Calculate reconstruction error\n",
        "reconstructions = autoencoder.predict(X_test)\n",
        "mse = np.mean(np.power(X_test - reconstructions, 2), axis=1)\n",
        "y_pred_autoencoder = (mse > np.percentile(mse, 95)).astype(int)  # Top 5% as anomalies\n"
      ],
      "metadata": {
        "colab": {
          "base_uri": "https://localhost:8080/"
        },
        "id": "f23K4m9DrNiB",
        "outputId": "c33971bb-da85-408f-ad73-c36162b0d7d8"
      },
      "execution_count": null,
      "outputs": [
        {
          "output_type": "stream",
          "name": "stderr",
          "text": [
            "/usr/local/lib/python3.10/dist-packages/keras/src/layers/core/dense.py:87: UserWarning: Do not pass an `input_shape`/`input_dim` argument to a layer. When using Sequential models, prefer using an `Input(shape)` object as the first layer in the model instead.\n",
            "  super().__init__(activity_regularizer=activity_regularizer, **kwargs)\n"
          ]
        },
        {
          "output_type": "stream",
          "name": "stdout",
          "text": [
            "\u001b[1m7/7\u001b[0m \u001b[32m━━━━━━━━━━━━━━━━━━━━\u001b[0m\u001b[37m\u001b[0m \u001b[1m0s\u001b[0m 48ms/step\n"
          ]
        }
      ]
    },
    {
      "cell_type": "code",
      "source": [
        "# Z-Score\n",
        "y_pred_z_score = z_score_method(X_test)\n",
        "\n",
        "# Combine predictions using majority voting\n",
        "y_pred_combined = np.array([\n",
        "    (z + iso + ae) > 1  # Majority voting (2 out of 3)\n",
        "    for z, iso, ae in zip(y_pred_z_score, y_pred_iso_forest, y_pred_autoencoder)\n",
        "]).astype(int)\n"
      ],
      "metadata": {
        "id": "edoofOxzrWw9"
      },
      "execution_count": null,
      "outputs": []
    },
    {
      "cell_type": "code",
      "source": [
        "# Evaluation metrics\n",
        "print(\"Accuracy:\", accuracy_score(y_test, y_pred_combined))\n",
        "print(\"Precision:\", precision_score(y_test, y_pred_combined))\n",
        "print(\"Recall:\", recall_score(y_test, y_pred_combined))\n",
        "print(\"F1 Score:\", f1_score(y_test, y_pred_combined))\n"
      ],
      "metadata": {
        "id": "alm1vYy2reK0",
        "outputId": "364f1c1e-a423-4d59-81fc-9573802e4879",
        "colab": {
          "base_uri": "https://localhost:8080/"
        }
      },
      "execution_count": null,
      "outputs": [
        {
          "output_type": "stream",
          "name": "stdout",
          "text": [
            "Accuracy: 0.9714285714285714\n",
            "Precision: 0.8181818181818182\n",
            "Recall: 0.6923076923076923\n",
            "F1 Score: 0.7500000000000001\n"
          ]
        }
      ]
    }
  ]
}